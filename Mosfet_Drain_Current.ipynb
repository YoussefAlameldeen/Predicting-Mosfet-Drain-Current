{
  "cells": [
    {
      "cell_type": "markdown",
      "metadata": {
        "id": "view-in-github",
        "colab_type": "text"
      },
      "source": [
        "<a href=\"https://colab.research.google.com/github/YoussefAlameldeen/Predicting-Mosfet-Drain-Current/blob/main/Mosfet_Drain_Current.ipynb\" target=\"_parent\"><img src=\"https://colab.research.google.com/assets/colab-badge.svg\" alt=\"Open In Colab\"/></a>"
      ]
    },
    {
      "cell_type": "markdown",
      "metadata": {
        "id": "fpW2IRuK0Phf"
      },
      "source": [
        "#Importing Frameworks And Libraries"
      ]
    },
    {
      "cell_type": "code",
      "execution_count": 5,
      "metadata": {
        "id": "LpdgTyFl0IA8"
      },
      "outputs": [],
      "source": [
        "import tensorflow as tf\n",
        "import numpy as np\n",
        "from sklearn.preprocessing import MinMaxScaler, StandardScaler\n",
        "import torch\n",
        "import torch.nn as nn\n",
        "import torch.optim as optim\n",
        "from torch.utils.data import DataLoader, TensorDataset\n",
        "import pandas as pd\n",
        "from sklearn.model_selection import train_test_split\n",
        "from sklearn.preprocessing import StandardScaler\n",
        "from tensorflow.keras.models import Sequential\n",
        "from tensorflow.keras.layers import Dense\n",
        "from sklearn.model_selection import KFold\n",
        "from sklearn.linear_model import LinearRegression\n",
        "import gdown\n",
        "import matplotlib.pyplot as plt\n",
        "from sklearn.model_selection import train_test_split\n",
        "from sklearn.ensemble import RandomForestRegressor\n",
        "from sklearn.metrics import mean_squared_error, r2_score, mean_absolute_error, explained_variance_score"
      ]
    },
    {
      "cell_type": "markdown",
      "metadata": {
        "id": "pGW1x9sE0Wo3"
      },
      "source": [
        "#Reading Data"
      ]
    },
    {
      "cell_type": "code",
      "execution_count": 6,
      "metadata": {
        "colab": {
          "base_uri": "https://localhost:8080/"
        },
        "id": "sq8kV2jeqwNG",
        "outputId": "524692a5-0683-4bdc-c83f-0e5f6e0d5c54"
      },
      "outputs": [
        {
          "output_type": "stream",
          "name": "stderr",
          "text": [
            "Downloading...\n",
            "From: https://drive.google.com/u/0/uc?id=1F-MZMnizMAHXHRdPeh2v2Y85f7OkZCWG&export=download\n",
            "To: /content/transistor_data.csv\n",
            "100%|██████████| 173M/173M [00:02<00:00, 72.9MB/s]\n"
          ]
        }
      ],
      "source": [
        "# Download the file from Google Drive using gdown\n",
        "url = 'https://drive.google.com/u/0/uc?id=1F-MZMnizMAHXHRdPeh2v2Y85f7OkZCWG&export=download'\n",
        "output = 'transistor_data.csv'  # Output file name\n",
        "gdown.download(url, output, quiet=False)\n",
        "\n",
        "# Read the CSV file into a Pandas DataFrame\n",
        "data = pd.read_csv('transistor_data.csv')"
      ]
    },
    {
      "cell_type": "markdown",
      "metadata": {
        "id": "T1g6c-_C0eC8"
      },
      "source": [
        "#Drop The Unwanted Coloums"
      ]
    },
    {
      "cell_type": "code",
      "execution_count": 7,
      "metadata": {
        "id": "FI5I3baRrHKs"
      },
      "outputs": [],
      "source": [
        "input_columns = ['vds', 'L(um)', 'W(um)', 'drain_length(um)', 'temperature', 'vgs', 'vsb']\n",
        "output_column = 'id(uA)'\n",
        "\n",
        "# Keep only the specified columns\n",
        "selected_data = data[input_columns + [output_column]]\n",
        "data = selected_data\n",
        "\n",
        "# Extracting input and output variables\n",
        "X = data[input_columns]\n",
        "y = data[output_column]"
      ]
    },
    {
      "cell_type": "markdown",
      "metadata": {
        "id": "nvIef4Z40j5-"
      },
      "source": [
        "#Previewing The Data"
      ]
    },
    {
      "cell_type": "code",
      "execution_count": 8,
      "metadata": {
        "colab": {
          "base_uri": "https://localhost:8080/",
          "height": 423
        },
        "id": "BkvdnZajA_y2",
        "outputId": "586e758f-0038-4675-e226-3ee6dc116a6b"
      },
      "outputs": [
        {
          "output_type": "execute_result",
          "data": {
            "text/plain": [
              "         vds  L(um)  W(um)  drain_length(um)  temperature  vgs  vsb  \\\n",
              "0      -0.45   8.00   0.84               0.3         27.0  0.0  0.0   \n",
              "1      -0.40   8.00   0.84               0.3         27.0  0.0  0.0   \n",
              "2      -0.35   8.00   0.84               0.3         27.0  0.0  0.0   \n",
              "3      -0.30   8.00   0.84               0.3         27.0  0.0  0.0   \n",
              "4      -0.25   8.00   0.84               0.3         27.0  0.0  0.0   \n",
              "...      ...    ...    ...               ...          ...  ...  ...   \n",
              "871483  2.30   0.15   7.00               0.3         27.0  1.8  1.5   \n",
              "871484  2.35   0.15   7.00               0.3         27.0  1.8  1.5   \n",
              "871485  2.40   0.15   7.00               0.3         27.0  1.8  1.5   \n",
              "871486  2.45   0.15   7.00               0.3         27.0  1.8  1.5   \n",
              "871487  2.50   0.15   7.00               0.3         27.0  1.8  1.5   \n",
              "\n",
              "             id(uA)  \n",
              "0          0.034866  \n",
              "1          0.009451  \n",
              "2          0.002331  \n",
              "3          0.000532  \n",
              "4          0.000111  \n",
              "...             ...  \n",
              "871483  4289.588350  \n",
              "871484  4326.932100  \n",
              "871485  4364.240650  \n",
              "871486  4401.516730  \n",
              "871487  4438.762770  \n",
              "\n",
              "[871488 rows x 8 columns]"
            ],
            "text/html": [
              "\n",
              "  <div id=\"df-1d31f0b3-1abb-4a6d-a779-a302df43d450\" class=\"colab-df-container\">\n",
              "    <div>\n",
              "<style scoped>\n",
              "    .dataframe tbody tr th:only-of-type {\n",
              "        vertical-align: middle;\n",
              "    }\n",
              "\n",
              "    .dataframe tbody tr th {\n",
              "        vertical-align: top;\n",
              "    }\n",
              "\n",
              "    .dataframe thead th {\n",
              "        text-align: right;\n",
              "    }\n",
              "</style>\n",
              "<table border=\"1\" class=\"dataframe\">\n",
              "  <thead>\n",
              "    <tr style=\"text-align: right;\">\n",
              "      <th></th>\n",
              "      <th>vds</th>\n",
              "      <th>L(um)</th>\n",
              "      <th>W(um)</th>\n",
              "      <th>drain_length(um)</th>\n",
              "      <th>temperature</th>\n",
              "      <th>vgs</th>\n",
              "      <th>vsb</th>\n",
              "      <th>id(uA)</th>\n",
              "    </tr>\n",
              "  </thead>\n",
              "  <tbody>\n",
              "    <tr>\n",
              "      <th>0</th>\n",
              "      <td>-0.45</td>\n",
              "      <td>8.00</td>\n",
              "      <td>0.84</td>\n",
              "      <td>0.3</td>\n",
              "      <td>27.0</td>\n",
              "      <td>0.0</td>\n",
              "      <td>0.0</td>\n",
              "      <td>0.034866</td>\n",
              "    </tr>\n",
              "    <tr>\n",
              "      <th>1</th>\n",
              "      <td>-0.40</td>\n",
              "      <td>8.00</td>\n",
              "      <td>0.84</td>\n",
              "      <td>0.3</td>\n",
              "      <td>27.0</td>\n",
              "      <td>0.0</td>\n",
              "      <td>0.0</td>\n",
              "      <td>0.009451</td>\n",
              "    </tr>\n",
              "    <tr>\n",
              "      <th>2</th>\n",
              "      <td>-0.35</td>\n",
              "      <td>8.00</td>\n",
              "      <td>0.84</td>\n",
              "      <td>0.3</td>\n",
              "      <td>27.0</td>\n",
              "      <td>0.0</td>\n",
              "      <td>0.0</td>\n",
              "      <td>0.002331</td>\n",
              "    </tr>\n",
              "    <tr>\n",
              "      <th>3</th>\n",
              "      <td>-0.30</td>\n",
              "      <td>8.00</td>\n",
              "      <td>0.84</td>\n",
              "      <td>0.3</td>\n",
              "      <td>27.0</td>\n",
              "      <td>0.0</td>\n",
              "      <td>0.0</td>\n",
              "      <td>0.000532</td>\n",
              "    </tr>\n",
              "    <tr>\n",
              "      <th>4</th>\n",
              "      <td>-0.25</td>\n",
              "      <td>8.00</td>\n",
              "      <td>0.84</td>\n",
              "      <td>0.3</td>\n",
              "      <td>27.0</td>\n",
              "      <td>0.0</td>\n",
              "      <td>0.0</td>\n",
              "      <td>0.000111</td>\n",
              "    </tr>\n",
              "    <tr>\n",
              "      <th>...</th>\n",
              "      <td>...</td>\n",
              "      <td>...</td>\n",
              "      <td>...</td>\n",
              "      <td>...</td>\n",
              "      <td>...</td>\n",
              "      <td>...</td>\n",
              "      <td>...</td>\n",
              "      <td>...</td>\n",
              "    </tr>\n",
              "    <tr>\n",
              "      <th>871483</th>\n",
              "      <td>2.30</td>\n",
              "      <td>0.15</td>\n",
              "      <td>7.00</td>\n",
              "      <td>0.3</td>\n",
              "      <td>27.0</td>\n",
              "      <td>1.8</td>\n",
              "      <td>1.5</td>\n",
              "      <td>4289.588350</td>\n",
              "    </tr>\n",
              "    <tr>\n",
              "      <th>871484</th>\n",
              "      <td>2.35</td>\n",
              "      <td>0.15</td>\n",
              "      <td>7.00</td>\n",
              "      <td>0.3</td>\n",
              "      <td>27.0</td>\n",
              "      <td>1.8</td>\n",
              "      <td>1.5</td>\n",
              "      <td>4326.932100</td>\n",
              "    </tr>\n",
              "    <tr>\n",
              "      <th>871485</th>\n",
              "      <td>2.40</td>\n",
              "      <td>0.15</td>\n",
              "      <td>7.00</td>\n",
              "      <td>0.3</td>\n",
              "      <td>27.0</td>\n",
              "      <td>1.8</td>\n",
              "      <td>1.5</td>\n",
              "      <td>4364.240650</td>\n",
              "    </tr>\n",
              "    <tr>\n",
              "      <th>871486</th>\n",
              "      <td>2.45</td>\n",
              "      <td>0.15</td>\n",
              "      <td>7.00</td>\n",
              "      <td>0.3</td>\n",
              "      <td>27.0</td>\n",
              "      <td>1.8</td>\n",
              "      <td>1.5</td>\n",
              "      <td>4401.516730</td>\n",
              "    </tr>\n",
              "    <tr>\n",
              "      <th>871487</th>\n",
              "      <td>2.50</td>\n",
              "      <td>0.15</td>\n",
              "      <td>7.00</td>\n",
              "      <td>0.3</td>\n",
              "      <td>27.0</td>\n",
              "      <td>1.8</td>\n",
              "      <td>1.5</td>\n",
              "      <td>4438.762770</td>\n",
              "    </tr>\n",
              "  </tbody>\n",
              "</table>\n",
              "<p>871488 rows × 8 columns</p>\n",
              "</div>\n",
              "    <div class=\"colab-df-buttons\">\n",
              "\n",
              "  <div class=\"colab-df-container\">\n",
              "    <button class=\"colab-df-convert\" onclick=\"convertToInteractive('df-1d31f0b3-1abb-4a6d-a779-a302df43d450')\"\n",
              "            title=\"Convert this dataframe to an interactive table.\"\n",
              "            style=\"display:none;\">\n",
              "\n",
              "  <svg xmlns=\"http://www.w3.org/2000/svg\" height=\"24px\" viewBox=\"0 -960 960 960\">\n",
              "    <path d=\"M120-120v-720h720v720H120Zm60-500h600v-160H180v160Zm220 220h160v-160H400v160Zm0 220h160v-160H400v160ZM180-400h160v-160H180v160Zm440 0h160v-160H620v160ZM180-180h160v-160H180v160Zm440 0h160v-160H620v160Z\"/>\n",
              "  </svg>\n",
              "    </button>\n",
              "\n",
              "  <style>\n",
              "    .colab-df-container {\n",
              "      display:flex;\n",
              "      gap: 12px;\n",
              "    }\n",
              "\n",
              "    .colab-df-convert {\n",
              "      background-color: #E8F0FE;\n",
              "      border: none;\n",
              "      border-radius: 50%;\n",
              "      cursor: pointer;\n",
              "      display: none;\n",
              "      fill: #1967D2;\n",
              "      height: 32px;\n",
              "      padding: 0 0 0 0;\n",
              "      width: 32px;\n",
              "    }\n",
              "\n",
              "    .colab-df-convert:hover {\n",
              "      background-color: #E2EBFA;\n",
              "      box-shadow: 0px 1px 2px rgba(60, 64, 67, 0.3), 0px 1px 3px 1px rgba(60, 64, 67, 0.15);\n",
              "      fill: #174EA6;\n",
              "    }\n",
              "\n",
              "    .colab-df-buttons div {\n",
              "      margin-bottom: 4px;\n",
              "    }\n",
              "\n",
              "    [theme=dark] .colab-df-convert {\n",
              "      background-color: #3B4455;\n",
              "      fill: #D2E3FC;\n",
              "    }\n",
              "\n",
              "    [theme=dark] .colab-df-convert:hover {\n",
              "      background-color: #434B5C;\n",
              "      box-shadow: 0px 1px 3px 1px rgba(0, 0, 0, 0.15);\n",
              "      filter: drop-shadow(0px 1px 2px rgba(0, 0, 0, 0.3));\n",
              "      fill: #FFFFFF;\n",
              "    }\n",
              "  </style>\n",
              "\n",
              "    <script>\n",
              "      const buttonEl =\n",
              "        document.querySelector('#df-1d31f0b3-1abb-4a6d-a779-a302df43d450 button.colab-df-convert');\n",
              "      buttonEl.style.display =\n",
              "        google.colab.kernel.accessAllowed ? 'block' : 'none';\n",
              "\n",
              "      async function convertToInteractive(key) {\n",
              "        const element = document.querySelector('#df-1d31f0b3-1abb-4a6d-a779-a302df43d450');\n",
              "        const dataTable =\n",
              "          await google.colab.kernel.invokeFunction('convertToInteractive',\n",
              "                                                    [key], {});\n",
              "        if (!dataTable) return;\n",
              "\n",
              "        const docLinkHtml = 'Like what you see? Visit the ' +\n",
              "          '<a target=\"_blank\" href=https://colab.research.google.com/notebooks/data_table.ipynb>data table notebook</a>'\n",
              "          + ' to learn more about interactive tables.';\n",
              "        element.innerHTML = '';\n",
              "        dataTable['output_type'] = 'display_data';\n",
              "        await google.colab.output.renderOutput(dataTable, element);\n",
              "        const docLink = document.createElement('div');\n",
              "        docLink.innerHTML = docLinkHtml;\n",
              "        element.appendChild(docLink);\n",
              "      }\n",
              "    </script>\n",
              "  </div>\n",
              "\n",
              "\n",
              "<div id=\"df-2ee50aa4-8995-446e-b09e-35440e113e87\">\n",
              "  <button class=\"colab-df-quickchart\" onclick=\"quickchart('df-2ee50aa4-8995-446e-b09e-35440e113e87')\"\n",
              "            title=\"Suggest charts.\"\n",
              "            style=\"display:none;\">\n",
              "\n",
              "<svg xmlns=\"http://www.w3.org/2000/svg\" height=\"24px\"viewBox=\"0 0 24 24\"\n",
              "     width=\"24px\">\n",
              "    <g>\n",
              "        <path d=\"M19 3H5c-1.1 0-2 .9-2 2v14c0 1.1.9 2 2 2h14c1.1 0 2-.9 2-2V5c0-1.1-.9-2-2-2zM9 17H7v-7h2v7zm4 0h-2V7h2v10zm4 0h-2v-4h2v4z\"/>\n",
              "    </g>\n",
              "</svg>\n",
              "  </button>\n",
              "\n",
              "<style>\n",
              "  .colab-df-quickchart {\n",
              "      --bg-color: #E8F0FE;\n",
              "      --fill-color: #1967D2;\n",
              "      --hover-bg-color: #E2EBFA;\n",
              "      --hover-fill-color: #174EA6;\n",
              "      --disabled-fill-color: #AAA;\n",
              "      --disabled-bg-color: #DDD;\n",
              "  }\n",
              "\n",
              "  [theme=dark] .colab-df-quickchart {\n",
              "      --bg-color: #3B4455;\n",
              "      --fill-color: #D2E3FC;\n",
              "      --hover-bg-color: #434B5C;\n",
              "      --hover-fill-color: #FFFFFF;\n",
              "      --disabled-bg-color: #3B4455;\n",
              "      --disabled-fill-color: #666;\n",
              "  }\n",
              "\n",
              "  .colab-df-quickchart {\n",
              "    background-color: var(--bg-color);\n",
              "    border: none;\n",
              "    border-radius: 50%;\n",
              "    cursor: pointer;\n",
              "    display: none;\n",
              "    fill: var(--fill-color);\n",
              "    height: 32px;\n",
              "    padding: 0;\n",
              "    width: 32px;\n",
              "  }\n",
              "\n",
              "  .colab-df-quickchart:hover {\n",
              "    background-color: var(--hover-bg-color);\n",
              "    box-shadow: 0 1px 2px rgba(60, 64, 67, 0.3), 0 1px 3px 1px rgba(60, 64, 67, 0.15);\n",
              "    fill: var(--button-hover-fill-color);\n",
              "  }\n",
              "\n",
              "  .colab-df-quickchart-complete:disabled,\n",
              "  .colab-df-quickchart-complete:disabled:hover {\n",
              "    background-color: var(--disabled-bg-color);\n",
              "    fill: var(--disabled-fill-color);\n",
              "    box-shadow: none;\n",
              "  }\n",
              "\n",
              "  .colab-df-spinner {\n",
              "    border: 2px solid var(--fill-color);\n",
              "    border-color: transparent;\n",
              "    border-bottom-color: var(--fill-color);\n",
              "    animation:\n",
              "      spin 1s steps(1) infinite;\n",
              "  }\n",
              "\n",
              "  @keyframes spin {\n",
              "    0% {\n",
              "      border-color: transparent;\n",
              "      border-bottom-color: var(--fill-color);\n",
              "      border-left-color: var(--fill-color);\n",
              "    }\n",
              "    20% {\n",
              "      border-color: transparent;\n",
              "      border-left-color: var(--fill-color);\n",
              "      border-top-color: var(--fill-color);\n",
              "    }\n",
              "    30% {\n",
              "      border-color: transparent;\n",
              "      border-left-color: var(--fill-color);\n",
              "      border-top-color: var(--fill-color);\n",
              "      border-right-color: var(--fill-color);\n",
              "    }\n",
              "    40% {\n",
              "      border-color: transparent;\n",
              "      border-right-color: var(--fill-color);\n",
              "      border-top-color: var(--fill-color);\n",
              "    }\n",
              "    60% {\n",
              "      border-color: transparent;\n",
              "      border-right-color: var(--fill-color);\n",
              "    }\n",
              "    80% {\n",
              "      border-color: transparent;\n",
              "      border-right-color: var(--fill-color);\n",
              "      border-bottom-color: var(--fill-color);\n",
              "    }\n",
              "    90% {\n",
              "      border-color: transparent;\n",
              "      border-bottom-color: var(--fill-color);\n",
              "    }\n",
              "  }\n",
              "</style>\n",
              "\n",
              "  <script>\n",
              "    async function quickchart(key) {\n",
              "      const quickchartButtonEl =\n",
              "        document.querySelector('#' + key + ' button');\n",
              "      quickchartButtonEl.disabled = true;  // To prevent multiple clicks.\n",
              "      quickchartButtonEl.classList.add('colab-df-spinner');\n",
              "      try {\n",
              "        const charts = await google.colab.kernel.invokeFunction(\n",
              "            'suggestCharts', [key], {});\n",
              "      } catch (error) {\n",
              "        console.error('Error during call to suggestCharts:', error);\n",
              "      }\n",
              "      quickchartButtonEl.classList.remove('colab-df-spinner');\n",
              "      quickchartButtonEl.classList.add('colab-df-quickchart-complete');\n",
              "    }\n",
              "    (() => {\n",
              "      let quickchartButtonEl =\n",
              "        document.querySelector('#df-2ee50aa4-8995-446e-b09e-35440e113e87 button');\n",
              "      quickchartButtonEl.style.display =\n",
              "        google.colab.kernel.accessAllowed ? 'block' : 'none';\n",
              "    })();\n",
              "  </script>\n",
              "</div>\n",
              "    </div>\n",
              "  </div>\n"
            ]
          },
          "metadata": {},
          "execution_count": 8
        }
      ],
      "source": [
        "data"
      ]
    },
    {
      "cell_type": "markdown",
      "metadata": {
        "id": "QvGbv1er3RKJ"
      },
      "source": [
        "#EDA"
      ]
    },
    {
      "cell_type": "code",
      "execution_count": 9,
      "metadata": {
        "colab": {
          "base_uri": "https://localhost:8080/"
        },
        "id": "rWwqdve8DeAS",
        "outputId": "850e1818-6e30-4aaa-e2ac-f90c018f1e51"
      },
      "outputs": [
        {
          "output_type": "stream",
          "name": "stdout",
          "text": [
            "    vds  L(um)  W(um)  drain_length(um)  temperature  vgs  vsb    id(uA)\n",
            "0 -0.45    8.0   0.84               0.3         27.0  0.0  0.0  0.034866\n",
            "1 -0.40    8.0   0.84               0.3         27.0  0.0  0.0  0.009451\n",
            "2 -0.35    8.0   0.84               0.3         27.0  0.0  0.0  0.002331\n",
            "3 -0.30    8.0   0.84               0.3         27.0  0.0  0.0  0.000532\n",
            "4 -0.25    8.0   0.84               0.3         27.0  0.0  0.0  0.000111\n",
            "<class 'pandas.core.frame.DataFrame'>\n",
            "RangeIndex: 871488 entries, 0 to 871487\n",
            "Data columns (total 8 columns):\n",
            " #   Column            Non-Null Count   Dtype  \n",
            "---  ------            --------------   -----  \n",
            " 0   vds               871488 non-null  float64\n",
            " 1   L(um)             871488 non-null  float64\n",
            " 2   W(um)             871488 non-null  float64\n",
            " 3   drain_length(um)  871488 non-null  float64\n",
            " 4   temperature       871488 non-null  float64\n",
            " 5   vgs               871488 non-null  float64\n",
            " 6   vsb               871488 non-null  float64\n",
            " 7   id(uA)            871488 non-null  float64\n",
            "dtypes: float64(8)\n",
            "memory usage: 53.2 MB\n",
            "None\n",
            "                 vds          L(um)          W(um)  drain_length(um)  \\\n",
            "count  871488.000000  871488.000000  871488.000000      8.714880e+05   \n",
            "mean        1.000138       0.329525       3.664366      3.000000e-01   \n",
            "std         0.880264       0.431887       6.682675      4.996006e-16   \n",
            "min        -0.500000       0.150000       0.360000      3.000000e-01   \n",
            "25%         0.250000       0.150000       0.650000      3.000000e-01   \n",
            "50%         1.000000       0.150000       0.940000      3.000000e-01   \n",
            "75%         1.750000       0.500000       1.000000      3.000000e-01   \n",
            "max         2.500000       8.000000      25.000000      3.000000e-01   \n",
            "\n",
            "       temperature            vgs            vsb         id(uA)  \n",
            "count     871488.0  871488.000000  871488.000000  871488.000000  \n",
            "mean          27.0       0.895708       0.745869     339.674855  \n",
            "std            0.0       0.535547       0.513941    1229.868653  \n",
            "min           27.0       0.000000       0.000000       0.000000  \n",
            "25%           27.0       0.450000       0.300000       0.000836  \n",
            "50%           27.0       0.900000       0.600000      12.420166  \n",
            "75%           27.0       1.350000       1.200000     122.021384  \n",
            "max           27.0       1.800000       1.500000   14979.728300  \n"
          ]
        }
      ],
      "source": [
        "# Display the first few rows of the DataFrame to understand the structure of the data\n",
        "print(data.head())\n",
        "\n",
        "# Get an overview of the data types and missing values\n",
        "print(data.info())\n",
        "\n",
        "# Summary statistics of numerical columns\n",
        "print(data.describe())"
      ]
    },
    {
      "cell_type": "markdown",
      "metadata": {
        "id": "uXhqVUBbFHUG"
      },
      "source": [
        "#Plotting"
      ]
    },
    {
      "cell_type": "code",
      "execution_count": 10,
      "metadata": {
        "colab": {
          "base_uri": "https://localhost:8080/",
          "height": 472
        },
        "id": "tgDD0Ekz2m61",
        "outputId": "7bb6f833-d948-4afe-cc08-bcd42e1af158"
      },
      "outputs": [
        {
          "output_type": "display_data",
          "data": {
            "text/plain": [
              "<Figure size 640x480 with 1 Axes>"
            ],
            "image/png": "[encoded data removed]"
          },
          "metadata": {}
        }
      ],
      "source": [
        "plt.scatter(range(len(y)), y, color='red', label='Variable Values')\n",
        "\n",
        "plt.xlabel('Index')\n",
        "plt.ylabel('Values')\n",
        "plt.title('Values of a Variable')\n",
        "plt.legend()\n",
        "plt.grid(True)\n",
        "plt.show()"
      ]
    },
    {
      "cell_type": "code",
      "execution_count": 11,
      "metadata": {
        "colab": {
          "base_uri": "https://localhost:8080/",
          "height": 455
        },
        "id": "1_J_OfAuDz2e",
        "outputId": "e0b2edd9-bd38-4e3b-f2bf-13580ce919e0"
      },
      "outputs": [
        {
          "output_type": "display_data",
          "data": {
            "text/plain": [
              "<Figure size 640x480 with 1 Axes>"
            ],
            "image/png": "[encoded data removed]"
          },
          "metadata": {}
        }
      ],
      "source": [
        "plt.figure(dpi=100)\n",
        "plt.plot(data['vds'],data['id(uA)'])\n",
        "plt.xlabel(\"Vds (V)\",fontsize=15)\n",
        "plt.ylabel(\"Ids (A)\",fontsize=15)\n",
        "plt.show()"
      ]
    },
    {
      "cell_type": "markdown",
      "metadata": {
        "id": "jXxmi6a56cxw"
      },
      "source": [
        "#Spiliting The Data Into Train And Test"
      ]
    },
    {
      "cell_type": "code",
      "execution_count": 12,
      "metadata": {
        "id": "_A5_utGC3pp7"
      },
      "outputs": [],
      "source": [
        "X_train, X_test, y_train, y_test = train_test_split(X, y, test_size=0.3, random_state=42)"
      ]
    },
    {
      "cell_type": "markdown",
      "metadata": {
        "id": "KTrE6M0OFdo8"
      },
      "source": [
        "#1.Random Forest Model"
      ]
    },
    {
      "cell_type": "code",
      "execution_count": 13,
      "metadata": {
        "colab": {
          "base_uri": "https://localhost:8080/"
        },
        "id": "JrOn8gaHADFK",
        "outputId": "d5be0c4e-9168-4548-eb7c-12272eec92d9"
      },
      "outputs": [
        {
          "output_type": "stream",
          "name": "stdout",
          "text": [
            "Mean Squared Error (MSE): 79690.00489066969\n",
            "R-squared (R2): 0.9479702622732641\n",
            "Mean Absolute Error (MAE): 77.45620011409227\n",
            "Explained Variance Score: 0.9479704168255652\n"
          ]
        }
      ],
      "source": [
        "input_columns = ['vds', 'L(um)', 'W(um)', 'drain_length(um)', 'temperature', 'vgs', 'vsb']\n",
        "output_column = 'id(uA)'\n",
        "\n",
        "selected_data = data[input_columns + [output_column]]\n",
        "\n",
        "# Splitting selected_data into X (input features) and y (output)\n",
        "X = selected_data.drop(columns='id(uA)')  # Selecting all columns except 'id(uA)'\n",
        "y = selected_data['id(uA)']  # Output is the 'id(uA)' column\n",
        "\n",
        "# Split the data into training and testing sets\n",
        "X_train, X_test, y_train, y_test = train_test_split(X, y, test_size=0.2, random_state=42)\n",
        "\n",
        "# Initialize the RandomForestRegressor\n",
        "random_forest = RandomForestRegressor(n_estimators=100, random_state=42)  # You can adjust n_estimators as needed\n",
        "\n",
        "# Fit the model\n",
        "random_forest.fit(X_train, y_train)\n",
        "\n",
        "# Predict on the test set\n",
        "y_pred = random_forest.predict(X_test)\n",
        "\n",
        "# Calculate and print various regression metrics\n",
        "mse = mean_squared_error(y_test, y_pred)\n",
        "r2 = r2_score(y_test, y_pred)\n",
        "mae = mean_absolute_error(y_test, y_pred)\n",
        "ev = explained_variance_score(y_test, y_pred)\n",
        "\n",
        "print(f\"Mean Squared Error (MSE): {mse}\")\n",
        "print(f\"R-squared (R2): {r2}\")\n",
        "print(f\"Mean Absolute Error (MAE): {mae}\")\n",
        "print(f\"Explained Variance Score: {ev}\")\n"
      ]
    },
    {
      "cell_type": "markdown",
      "metadata": {
        "id": "rAcNyN9S7FKp"
      },
      "source": [
        "#2.Implementing Neural Network Model"
      ]
    },
    {
      "cell_type": "code",
      "execution_count": 14,
      "metadata": {
        "colab": {
          "base_uri": "https://localhost:8080/"
        },
        "id": "N7eQEtVMiqMe",
        "outputId": "31a68cf9-9e52-4f17-9fe2-67b035ccf2e4"
      },
      "outputs": [
        {
          "output_type": "stream",
          "name": "stdout",
          "text": [
            "Epoch 1/10\n",
            "43575/43575 [==============================] - 105s 2ms/step - loss: 397137.1562 - mse: 397137.1562 - val_loss: 212894.5000 - val_mse: 212894.5000\n",
            "Epoch 2/10\n",
            "43575/43575 [==============================] - 102s 2ms/step - loss: 172911.1406 - mse: 172911.1406 - val_loss: 152729.1875 - val_mse: 152729.1875\n",
            "Epoch 3/10\n",
            "43575/43575 [==============================] - 108s 2ms/step - loss: 145703.6719 - mse: 145703.6719 - val_loss: 149970.9688 - val_mse: 149970.9688\n",
            "Epoch 4/10\n",
            "43575/43575 [==============================] - 151s 3ms/step - loss: 126784.5781 - mse: 126784.5781 - val_loss: 114402.6172 - val_mse: 114402.6172\n",
            "Epoch 5/10\n",
            "43575/43575 [==============================] - 115s 3ms/step - loss: 104787.6641 - mse: 104787.6641 - val_loss: 106274.2344 - val_mse: 106274.2344\n",
            "Epoch 6/10\n",
            "43575/43575 [==============================] - 109s 3ms/step - loss: 87128.2422 - mse: 87128.2422 - val_loss: 76887.1953 - val_mse: 76887.1953\n",
            "Epoch 7/10\n",
            "43575/43575 [==============================] - 109s 3ms/step - loss: 75723.7812 - mse: 75723.7812 - val_loss: 79901.4844 - val_mse: 79901.4844\n",
            "Epoch 8/10\n",
            "43575/43575 [==============================] - 112s 3ms/step - loss: 68553.1250 - mse: 68553.1250 - val_loss: 62450.1602 - val_mse: 62450.1602\n",
            "Epoch 9/10\n",
            "43575/43575 [==============================] - 130s 3ms/step - loss: 64558.1055 - mse: 64558.1055 - val_loss: 61907.5664 - val_mse: 61907.5664\n",
            "Epoch 10/10\n",
            "43575/43575 [==============================] - 109s 2ms/step - loss: 62245.1758 - mse: 62245.1758 - val_loss: 59903.9883 - val_mse: 59903.9883\n"
          ]
        }
      ],
      "source": [
        "# Build the Keras model\n",
        "model = Sequential()\n",
        "model.add(Dense(64, activation='relu', input_shape=(X_train.shape[1],)))\n",
        "model.add(Dense(32, activation='relu'))\n",
        "model.add(Dense(1))  # Output layer\n",
        "\n",
        "# Compile the model\n",
        "model.compile(optimizer='adam', loss='mean_squared_error', metrics=['mse'])\n",
        "\n",
        "# Train the model\n",
        "history = model.fit(X_train, y_train, epochs=10, batch_size=16, validation_data=(X_test, y_test))"
      ]
    },
    {
      "cell_type": "code",
      "execution_count": 15,
      "metadata": {
        "colab": {
          "base_uri": "https://localhost:8080/"
        },
        "id": "N8jOv56gBiYh",
        "outputId": "c77c4443-14e0-425b-bd75-edc87362052b"
      },
      "outputs": [
        {
          "output_type": "stream",
          "name": "stdout",
          "text": [
            "5447/5447 [==============================] - 9s 2ms/step - loss: 59903.9414 - mse: 59903.9414\n",
            "Test Loss: 59903.94140625, Test Mean Squared Error: 59903.94140625\n"
          ]
        }
      ],
      "source": [
        "# Evaluate the model on the test set\n",
        "test_loss, test_accuracy = model.evaluate(X_test, y_test)\n",
        "print(f\"Test Loss: {test_loss}, Test Mean Squared Error: {test_accuracy}\")"
      ]
    },
    {
      "cell_type": "markdown",
      "metadata": {
        "id": "FZfwYf8oxhFA"
      },
      "source": [
        "#2.1 Implemnting Neural Network With Cross Validation And k-fold\n",
        "\n",
        "\n",
        "\n"
      ]
    },
    {
      "cell_type": "code",
      "execution_count": 16,
      "metadata": {
        "id": "eDTzygFB-rW-"
      },
      "outputs": [],
      "source": [
        "from tensorflow.keras import layers\n",
        "from tensorflow.keras import regularizers"
      ]
    },
    {
      "cell_type": "code",
      "execution_count": 17,
      "metadata": {
        "colab": {
          "base_uri": "https://localhost:8080/"
        },
        "id": "mMXC03PjtIex",
        "outputId": "cd1728cf-e2a8-4b27-b307-a1c366c19278"
      },
      "outputs": [
        {
          "output_type": "stream",
          "name": "stdout",
          "text": [
            "Test Mean Squared Error: 54854.0078125\n",
            "Test Mean Squared Error: 52871.89453125\n",
            "Test Mean Squared Error: 52280.0078125\n",
            "Test Mean Squared Error: 87550.6171875\n",
            "Test Mean Squared Error: 66123.140625\n",
            "Mean of Mean Squared Error across folds: 62735.93359375\n"
          ]
        }
      ],
      "source": [
        "kfold = KFold(n_splits=5, shuffle=True, random_state=42)\n",
        "scaler = StandardScaler()\n",
        "\n",
        "mse_scores = []\n",
        "\n",
        "for train_index, test_index in kfold.split(X):\n",
        "    X_train, X_test = X.iloc[train_index], X.iloc[test_index]\n",
        "    y_train, y_test = y.iloc[train_index], y.iloc[test_index]\n",
        "\n",
        "    X_train = scaler.fit_transform(X_train)\n",
        "    X_test = scaler.transform(X_test)\n",
        "\n",
        "    # Build the Keras model with L2 regularization\n",
        "    model = Sequential()\n",
        "    model.add(Dense(64, activation='relu', kernel_regularizer=regularizers.l2(0.01), input_shape=(X_train.shape[1],)))\n",
        "    model.add(Dense(32, activation='relu', kernel_regularizer=regularizers.l2(0.01)))\n",
        "    model.add(Dense(1))  # Output layer\n",
        "\n",
        "    model.compile(optimizer='adam', loss='mean_squared_error', metrics=['mse'])\n",
        "\n",
        "    # Train the model\n",
        "    model.fit(X_train, y_train, epochs=10, batch_size=32, verbose=0)\n"
      ]
    },
    {
      "cell_type": "markdown",
      "source": [
        "#Evaluate the model on the test set\n"
      ],
      "metadata": {
        "id": "GjLwxg0v8pxf"
      }
    },
    {
      "cell_type": "code",
      "source": [
        "test_loss, test_mse = model.evaluate(X_test, y_test, verbose=0)\n",
        "mse_scores.append(test_mse)\n",
        "print(f\"Test Mean Squared Error: {test_mse}\")\n",
        "\n",
        "print(f\"Mean of Mean Squared Error across folds: {sum(mse_scores) / len(mse_scores)}\")\n"
      ],
      "metadata": {
        "colab": {
          "base_uri": "https://localhost:8080/"
        },
        "id": "NVsuKAr48onZ",
        "outputId": "2040f1f6-55f8-4913-9455-abac46fc13b4"
      },
      "execution_count": 18,
      "outputs": [
        {
          "output_type": "stream",
          "name": "stdout",
          "text": [
            "Test Mean Squared Error: 66123.140625\n",
            "Mean of Mean Squared Error across folds: 63300.468098958336\n"
          ]
        }
      ]
    }
  ],
  "metadata": {
    "colab": {
      "provenance": [],
      "include_colab_link": true
    },
    "kernelspec": {
      "display_name": "Python 3",
      "name": "python3"
    },
    "language_info": {
      "name": "python"
    }
  },
  "nbformat": 4,
  "nbformat_minor": 0
}